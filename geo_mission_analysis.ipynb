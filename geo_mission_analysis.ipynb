{
 "cells": [
  {
   "cell_type": "markdown",
   "metadata": {},
   "source": [
    "# iRobot Data Science Coding Challenge"
   ]
  },
  {
   "cell_type": "markdown",
   "metadata": {},
   "source": [
    "## Project Name: Geo and Mission Data Analysis for the Robot Performance Measurement"
   ]
  },
  {
   "cell_type": "markdown",
   "metadata": {},
   "source": [
    "### Background of the Project:"
   ]
  },
  {
   "cell_type": "markdown",
   "metadata": {},
   "source": [
    "iRobot has a series of wifi-connected robotic vacuum cleaners available for sale worldwide. These robots are capable of autonomously navigating a home to vacuum its floors. Upon mission completion, they send a summary report of the mission to \n",
    "cloud services, where it is processed and stored as a row in a Postgres database. However, any cleaning mission performed while the robot is not connected to wifi (either by user's choice or a faulty connection) will not be saved in the database. In \n",
    "addition, there are  occasional periods where cloud services malfunction and no missions are reported, resulting in discrete periods of data loss.\n",
    "\n",
    "These robots are programmed with an automatic recharge and resume function, which means that when the robot detects its battery  levels reaching critically low levels, it will navigate back to the charging dock if available and charge for up to 90 minutes before resuming the mission. In addition, if a robot becomes stuck on an obstacle in its environment or is manually paused by a button press, it will cease cleaning for up to 90 minutes before terminating the mission. If the user restarts the mission with a button press within 90 minutes of the pause, the robot will continue cleaning normally. The number of minutes spent cleaning, charging, or paused are reported for each mission, as is the mission outcome (a field describing whether the mission was cancelled, the robot got stuck, the battery died, or the robot completed the job successfully)."
   ]
  },
  {
   "cell_type": "markdown",
   "metadata": {},
   "source": [
    "### Getting Started with the Project:"
   ]
  },
  {
   "cell_type": "markdown",
   "metadata": {},
   "source": [
    "To begin working with the iRobot data, we'll first need to import the functionality we need, and load our data into a pandas DataFrame.\n",
    "Run the code cell below to load our data and display the first few entries (passengers) for examination using the .head() function."
   ]
  },
  {
   "cell_type": "code",
   "execution_count": 8,
   "metadata": {},
   "outputs": [],
   "source": [
    "# Import libraries necessary for this project\n",
    "import numpy as np\n",
    "import pandas as pd\n",
    "import matplotlib.pyplot as plt\n",
    "from IPython.display import display # Allows the use of display() for DataFrames\n",
    "\n",
    "# Pretty display for notebooks\n",
    "%matplotlib inline"
   ]
  },
  {
   "cell_type": "code",
   "execution_count": 10,
   "metadata": {},
   "outputs": [
    {
     "data": {
      "text/html": [
       "<div>\n",
       "<style scoped>\n",
       "    .dataframe tbody tr th:only-of-type {\n",
       "        vertical-align: middle;\n",
       "    }\n",
       "\n",
       "    .dataframe tbody tr th {\n",
       "        vertical-align: top;\n",
       "    }\n",
       "\n",
       "    .dataframe thead th {\n",
       "        text-align: right;\n",
       "    }\n",
       "</style>\n",
       "<table border=\"1\" class=\"dataframe\">\n",
       "  <thead>\n",
       "    <tr style=\"text-align: right;\">\n",
       "      <th></th>\n",
       "      <th>robotid</th>\n",
       "      <th>datetime</th>\n",
       "      <th>nmssn</th>\n",
       "      <th>runm</th>\n",
       "      <th>chrgm</th>\n",
       "      <th>pausem</th>\n",
       "      <th>outcome</th>\n",
       "    </tr>\n",
       "  </thead>\n",
       "  <tbody>\n",
       "    <tr>\n",
       "      <td>0</td>\n",
       "      <td>000NG2FMLJBT9ANZ</td>\n",
       "      <td>2017-10-01 16:17:22</td>\n",
       "      <td>40</td>\n",
       "      <td>3</td>\n",
       "      <td>1</td>\n",
       "      <td>2</td>\n",
       "      <td>stuck</td>\n",
       "    </tr>\n",
       "    <tr>\n",
       "      <td>1</td>\n",
       "      <td>000NG2FMLJBT9ANZ</td>\n",
       "      <td>2017-10-03 14:25:56</td>\n",
       "      <td>41</td>\n",
       "      <td>83</td>\n",
       "      <td>0</td>\n",
       "      <td>13</td>\n",
       "      <td>ok</td>\n",
       "    </tr>\n",
       "    <tr>\n",
       "      <td>2</td>\n",
       "      <td>000NG2FMLJBT9ANZ</td>\n",
       "      <td>2017-10-04 12:32:51</td>\n",
       "      <td>42</td>\n",
       "      <td>66</td>\n",
       "      <td>13</td>\n",
       "      <td>12</td>\n",
       "      <td>ok</td>\n",
       "    </tr>\n",
       "    <tr>\n",
       "      <td>3</td>\n",
       "      <td>000NG2FMLJBT9ANZ</td>\n",
       "      <td>2017-10-26 02:12:55</td>\n",
       "      <td>45</td>\n",
       "      <td>72</td>\n",
       "      <td>24</td>\n",
       "      <td>0</td>\n",
       "      <td>cncl</td>\n",
       "    </tr>\n",
       "    <tr>\n",
       "      <td>4</td>\n",
       "      <td>000NG2FMLJBT9ANZ</td>\n",
       "      <td>2017-10-27 07:17:39</td>\n",
       "      <td>46</td>\n",
       "      <td>61</td>\n",
       "      <td>9</td>\n",
       "      <td>0</td>\n",
       "      <td>cncl</td>\n",
       "    </tr>\n",
       "    <tr>\n",
       "      <td>5</td>\n",
       "      <td>000Y9NBMJ77LQ7S7</td>\n",
       "      <td>2016-11-28 05:41:25</td>\n",
       "      <td>55</td>\n",
       "      <td>61</td>\n",
       "      <td>0</td>\n",
       "      <td>13</td>\n",
       "      <td>ok</td>\n",
       "    </tr>\n",
       "    <tr>\n",
       "      <td>6</td>\n",
       "      <td>000Y9NBMJ77LQ7S7</td>\n",
       "      <td>2016-12-20 10:06:42</td>\n",
       "      <td>56</td>\n",
       "      <td>31</td>\n",
       "      <td>0</td>\n",
       "      <td>6</td>\n",
       "      <td>cncl</td>\n",
       "    </tr>\n",
       "    <tr>\n",
       "      <td>7</td>\n",
       "      <td>000Y9NBMJ77LQ7S7</td>\n",
       "      <td>2017-02-18 03:16:40</td>\n",
       "      <td>57</td>\n",
       "      <td>11</td>\n",
       "      <td>0</td>\n",
       "      <td>2</td>\n",
       "      <td>cncl</td>\n",
       "    </tr>\n",
       "    <tr>\n",
       "      <td>8</td>\n",
       "      <td>000Y9NBMJ77LQ7S7</td>\n",
       "      <td>2017-03-08 10:49:36</td>\n",
       "      <td>58</td>\n",
       "      <td>78</td>\n",
       "      <td>0</td>\n",
       "      <td>0</td>\n",
       "      <td>ok</td>\n",
       "    </tr>\n",
       "    <tr>\n",
       "      <td>9</td>\n",
       "      <td>000Y9NBMJ77LQ7S7</td>\n",
       "      <td>2017-03-19 10:21:15</td>\n",
       "      <td>59</td>\n",
       "      <td>99</td>\n",
       "      <td>0</td>\n",
       "      <td>0</td>\n",
       "      <td>cncl</td>\n",
       "    </tr>\n",
       "  </tbody>\n",
       "</table>\n",
       "</div>"
      ],
      "text/plain": [
       "            robotid             datetime  nmssn  runm  chrgm  pausem outcome\n",
       "0  000NG2FMLJBT9ANZ  2017-10-01 16:17:22     40     3      1       2   stuck\n",
       "1  000NG2FMLJBT9ANZ  2017-10-03 14:25:56     41    83      0      13      ok\n",
       "2  000NG2FMLJBT9ANZ  2017-10-04 12:32:51     42    66     13      12      ok\n",
       "3  000NG2FMLJBT9ANZ  2017-10-26 02:12:55     45    72     24       0    cncl\n",
       "4  000NG2FMLJBT9ANZ  2017-10-27 07:17:39     46    61      9       0    cncl\n",
       "5  000Y9NBMJ77LQ7S7  2016-11-28 05:41:25     55    61      0      13      ok\n",
       "6  000Y9NBMJ77LQ7S7  2016-12-20 10:06:42     56    31      0       6    cncl\n",
       "7  000Y9NBMJ77LQ7S7  2017-02-18 03:16:40     57    11      0       2    cncl\n",
       "8  000Y9NBMJ77LQ7S7  2017-03-08 10:49:36     58    78      0       0      ok\n",
       "9  000Y9NBMJ77LQ7S7  2017-03-19 10:21:15     59    99      0       0    cncl"
      ]
     },
     "execution_count": 10,
     "metadata": {},
     "output_type": "execute_result"
    }
   ],
   "source": [
    "# Load the dataset of Mission Data\n",
    "# mission_data_file = 'mission_data.csv'\n",
    "# mission_df = pd.read_csv(mission_data_file)\n",
    "mission_df=pd.read_csv (r'C:\\Users\\MdKhurramMonirRabby\\Documents\\GitHub\\Geo-and-Mission-Data-Analysis-for-the-Robot-Performance-Measurement\\mission_data.csv')\n",
    "# Print the first few entries of the Mission Data of iRobot\n",
    "# display(df.info())\n",
    "mission_df.head(n =10)"
   ]
  },
  {
   "cell_type": "markdown",
   "metadata": {},
   "source": [
    "From a sample of the Mission data, we can see the following features present for a sample of 10,000 wifi-connected robots performance analysis:\n",
    "* **robotid**: a unique robot identifier\n",
    "* **datetime**: a date string that represents the start time of a mission in GMT\n",
    "* **nmssn**: mission number. This information comes from an internal counter on the robot that increments +1 per mission. It is important to notedown that the complete mission history from mission 1 may not be included for each robot (due to missions being run before the robot was connected to wifi or data loss). The max mission number per robot reflects its total number of missions to date reported to the database.\n",
    "* **runm**: this is the time in minutes that the robot spent actually cleaning.\n",
    "* **chrgm**: this is the time in minutes that a robot spent charging.\n",
    "* **pausem**: this is the time in minutes that a robot spent paused.\n",
    "* **outcome**: this is the end status of a mission. \"Cncl\" indicates that the mission was cancelled by the user. \"Stuck\" means the robot got stuck on an obstacle, and was not rescued within 90 minutes, so could not return to the dock. \"Bat\" means the \n",
    "robot's battery grew too low for it to return to the dock. \"Ok\" means the robot successfully completed cleaning the space and returned to the dock."
   ]
  },
  {
   "cell_type": "code",
   "execution_count": 12,
   "metadata": {},
   "outputs": [
    {
     "data": {
      "text/html": [
       "<div>\n",
       "<style scoped>\n",
       "    .dataframe tbody tr th:only-of-type {\n",
       "        vertical-align: middle;\n",
       "    }\n",
       "\n",
       "    .dataframe tbody tr th {\n",
       "        vertical-align: top;\n",
       "    }\n",
       "\n",
       "    .dataframe thead th {\n",
       "        text-align: right;\n",
       "    }\n",
       "</style>\n",
       "<table border=\"1\" class=\"dataframe\">\n",
       "  <thead>\n",
       "    <tr style=\"text-align: right;\">\n",
       "      <th></th>\n",
       "      <th>country_cd</th>\n",
       "      <th>timezone</th>\n",
       "      <th>robotid</th>\n",
       "    </tr>\n",
       "  </thead>\n",
       "  <tbody>\n",
       "    <tr>\n",
       "      <td>0</td>\n",
       "      <td>SE</td>\n",
       "      <td>Europe/Stockholm</td>\n",
       "      <td>T29NF13ZIYISNF79</td>\n",
       "    </tr>\n",
       "    <tr>\n",
       "      <td>1</td>\n",
       "      <td>JP</td>\n",
       "      <td>Asia/Tokyo</td>\n",
       "      <td>9S12V26O6G426OYR</td>\n",
       "    </tr>\n",
       "    <tr>\n",
       "      <td>2</td>\n",
       "      <td>IL</td>\n",
       "      <td>Asia/Jerusalem</td>\n",
       "      <td>QI6X3P9JKNILKKU1</td>\n",
       "    </tr>\n",
       "    <tr>\n",
       "      <td>3</td>\n",
       "      <td>IL</td>\n",
       "      <td>Asia/Jerusalem</td>\n",
       "      <td>7OMKNWMWA4XWC911</td>\n",
       "    </tr>\n",
       "    <tr>\n",
       "      <td>4</td>\n",
       "      <td>IL</td>\n",
       "      <td>Asia/Jerusalem</td>\n",
       "      <td>YO63CL0ZFK83SYCZ</td>\n",
       "    </tr>\n",
       "    <tr>\n",
       "      <td>5</td>\n",
       "      <td>DK</td>\n",
       "      <td>Europe/Copenhagen</td>\n",
       "      <td>Y22RZBDPEXT64LWL</td>\n",
       "    </tr>\n",
       "    <tr>\n",
       "      <td>6</td>\n",
       "      <td>IL</td>\n",
       "      <td>Asia/Jerusalem</td>\n",
       "      <td>M8B8VIPZDDDWLJ3D</td>\n",
       "    </tr>\n",
       "    <tr>\n",
       "      <td>7</td>\n",
       "      <td>IL</td>\n",
       "      <td>Asia/Jerusalem</td>\n",
       "      <td>9C4NPS3Q3N253PIY</td>\n",
       "    </tr>\n",
       "    <tr>\n",
       "      <td>8</td>\n",
       "      <td>IL</td>\n",
       "      <td>Asia/Jerusalem</td>\n",
       "      <td>TMMI6I31JH1FLJLG</td>\n",
       "    </tr>\n",
       "    <tr>\n",
       "      <td>9</td>\n",
       "      <td>JP</td>\n",
       "      <td>Asia/Tokyo</td>\n",
       "      <td>CSDOPIZNFG5QX3BE</td>\n",
       "    </tr>\n",
       "  </tbody>\n",
       "</table>\n",
       "</div>"
      ],
      "text/plain": [
       "  country_cd           timezone           robotid\n",
       "0         SE   Europe/Stockholm  T29NF13ZIYISNF79\n",
       "1         JP         Asia/Tokyo  9S12V26O6G426OYR\n",
       "2         IL     Asia/Jerusalem  QI6X3P9JKNILKKU1\n",
       "3         IL     Asia/Jerusalem  7OMKNWMWA4XWC911\n",
       "4         IL     Asia/Jerusalem  YO63CL0ZFK83SYCZ\n",
       "5         DK  Europe/Copenhagen  Y22RZBDPEXT64LWL\n",
       "6         IL     Asia/Jerusalem  M8B8VIPZDDDWLJ3D\n",
       "7         IL     Asia/Jerusalem  9C4NPS3Q3N253PIY\n",
       "8         IL     Asia/Jerusalem  TMMI6I31JH1FLJLG\n",
       "9         JP         Asia/Tokyo  CSDOPIZNFG5QX3BE"
      ]
     },
     "execution_count": 12,
     "metadata": {},
     "output_type": "execute_result"
    }
   ],
   "source": [
    "# Load the dataset of Geo Data\n",
    "# geo_data_file = 'geo_data.csv'\n",
    "# geo_df = pd.read_csv(geo_data_file)\n",
    "geo_df=pd.read_csv (r'C:\\Users\\MdKhurramMonirRabby\\Documents\\GitHub\\Geo-and-Mission-Data-Analysis-for-the-Robot-Performance-Measurement\\geo_data.csv')\n",
    "# Print the first few entries of the Geo Data of iRobot\n",
    "# display(df.info())\n",
    "geo_df.head(n =10)"
   ]
  },
  {
   "cell_type": "markdown",
   "metadata": {},
   "source": [
    "From a sample of the Geo data, we can see the following features as details of the robot's geographic location:\n",
    "\n",
    "* **robotid**: unique robot identifier\n",
    "* **country_cd**: 2-letter ISO country code\n",
    "* **timezone**: robot's timezone (from IANA/Olson database)"
   ]
  },
  {
   "cell_type": "markdown",
   "metadata": {},
   "source": [
    "### Tasks-1: Perform data analysis exploring use patterns of the typical robot user per country. \n",
    "#### Include relevant visualizations where appropriate, and address any possible effects of data loss on your findings. \n",
    "#### Are there geographic differences in robot usage?\n",
    "#### -  Consider all descriptive features of a mission, including when and how frequently it occurred.\n",
    "#### -  If applicable, comment on how trends in these features might impact design decisions for the hardware, battery, or navigation algorithms of robots sold in different regions. "
   ]
  },
  {
   "cell_type": "markdown",
   "metadata": {},
   "source": [
    "#### Removing Missing Data: \n",
    "As there is high possibility of data missing, we filter our data frame by removing missing data to avoid misleading information. "
   ]
  },
  {
   "cell_type": "code",
   "execution_count": 13,
   "metadata": {},
   "outputs": [],
   "source": [
    "# Removing missing data from Mission Data Frame\n",
    "mission_nm_df=mission_df.dropna()\n",
    "\n",
    "# Removing missing data from Geo Data Frame\n",
    "geo_nm_df=geo_df.dropna()"
   ]
  },
  {
   "cell_type": "code",
   "execution_count": 14,
   "metadata": {},
   "outputs": [
    {
     "name": "stdout",
     "output_type": "stream",
     "text": [
      "Missing data for Mission: 0\n"
     ]
    }
   ],
   "source": [
    "# Missing Data for Mission Data Frame\n",
    "r_m, c_m=mission_df.shape\n",
    "r_m_nm, c_m_nm=mission_nm_df.shape\n",
    "\n",
    "print('Missing data for Mission:',(r_m-r_m_nm))"
   ]
  },
  {
   "cell_type": "code",
   "execution_count": 15,
   "metadata": {},
   "outputs": [
    {
     "name": "stdout",
     "output_type": "stream",
     "text": [
      "Actual Row 367679\n",
      "Without Missing Row 367679\n"
     ]
    }
   ],
   "source": [
    "print('Actual Row', r_m)\n",
    "print('Without Missing Row', r_m_nm)"
   ]
  },
  {
   "cell_type": "code",
   "execution_count": 16,
   "metadata": {},
   "outputs": [
    {
     "name": "stdout",
     "output_type": "stream",
     "text": [
      "Missing data for Geo: 2\n"
     ]
    }
   ],
   "source": [
    "# Missing Data for Geo Data Frame\n",
    "r_g, c_g=geo_df.shape\n",
    "r_g_nm, c_g_nm=geo_nm_df.shape\n",
    "\n",
    "print('Missing data for Geo:',(r_g-r_g_nm))"
   ]
  },
  {
   "cell_type": "code",
   "execution_count": 17,
   "metadata": {},
   "outputs": [
    {
     "data": {
      "text/html": [
       "<div>\n",
       "<style scoped>\n",
       "    .dataframe tbody tr th:only-of-type {\n",
       "        vertical-align: middle;\n",
       "    }\n",
       "\n",
       "    .dataframe tbody tr th {\n",
       "        vertical-align: top;\n",
       "    }\n",
       "\n",
       "    .dataframe thead th {\n",
       "        text-align: right;\n",
       "    }\n",
       "</style>\n",
       "<table border=\"1\" class=\"dataframe\">\n",
       "  <thead>\n",
       "    <tr style=\"text-align: right;\">\n",
       "      <th></th>\n",
       "      <th>timezone</th>\n",
       "      <th>robotid</th>\n",
       "    </tr>\n",
       "  </thead>\n",
       "  <tbody>\n",
       "    <tr>\n",
       "      <td>0</td>\n",
       "      <td>Europe/Stockholm</td>\n",
       "      <td>T29NF13ZIYISNF79</td>\n",
       "    </tr>\n",
       "    <tr>\n",
       "      <td>1</td>\n",
       "      <td>Asia/Tokyo</td>\n",
       "      <td>9S12V26O6G426OYR</td>\n",
       "    </tr>\n",
       "    <tr>\n",
       "      <td>2</td>\n",
       "      <td>Asia/Jerusalem</td>\n",
       "      <td>QI6X3P9JKNILKKU1</td>\n",
       "    </tr>\n",
       "    <tr>\n",
       "      <td>3</td>\n",
       "      <td>Asia/Jerusalem</td>\n",
       "      <td>7OMKNWMWA4XWC911</td>\n",
       "    </tr>\n",
       "    <tr>\n",
       "      <td>4</td>\n",
       "      <td>Asia/Jerusalem</td>\n",
       "      <td>YO63CL0ZFK83SYCZ</td>\n",
       "    </tr>\n",
       "    <tr>\n",
       "      <td>...</td>\n",
       "      <td>...</td>\n",
       "      <td>...</td>\n",
       "    </tr>\n",
       "    <tr>\n",
       "      <td>9995</td>\n",
       "      <td>Asia/Jerusalem</td>\n",
       "      <td>8AYVGJ3OTQKP3KXP</td>\n",
       "    </tr>\n",
       "    <tr>\n",
       "      <td>9996</td>\n",
       "      <td>Asia/Jerusalem</td>\n",
       "      <td>3VUF5797VXX3YVEM</td>\n",
       "    </tr>\n",
       "    <tr>\n",
       "      <td>9997</td>\n",
       "      <td>Asia/Jerusalem</td>\n",
       "      <td>O7SSTNTBSSJTZX7U</td>\n",
       "    </tr>\n",
       "    <tr>\n",
       "      <td>9998</td>\n",
       "      <td>Asia/Jerusalem</td>\n",
       "      <td>MHWKEA2VASXP9YGD</td>\n",
       "    </tr>\n",
       "    <tr>\n",
       "      <td>9999</td>\n",
       "      <td>Asia/Jerusalem</td>\n",
       "      <td>D3M0HI19ZYY167PF</td>\n",
       "    </tr>\n",
       "  </tbody>\n",
       "</table>\n",
       "<p>10000 rows × 2 columns</p>\n",
       "</div>"
      ],
      "text/plain": [
       "              timezone           robotid\n",
       "0     Europe/Stockholm  T29NF13ZIYISNF79\n",
       "1           Asia/Tokyo  9S12V26O6G426OYR\n",
       "2       Asia/Jerusalem  QI6X3P9JKNILKKU1\n",
       "3       Asia/Jerusalem  7OMKNWMWA4XWC911\n",
       "4       Asia/Jerusalem  YO63CL0ZFK83SYCZ\n",
       "...                ...               ...\n",
       "9995    Asia/Jerusalem  8AYVGJ3OTQKP3KXP\n",
       "9996    Asia/Jerusalem  3VUF5797VXX3YVEM\n",
       "9997    Asia/Jerusalem  O7SSTNTBSSJTZX7U\n",
       "9998    Asia/Jerusalem  MHWKEA2VASXP9YGD\n",
       "9999    Asia/Jerusalem  D3M0HI19ZYY167PF\n",
       "\n",
       "[10000 rows x 2 columns]"
      ]
     },
     "execution_count": 17,
     "metadata": {},
     "output_type": "execute_result"
    }
   ],
   "source": [
    "# Findout missing Data in Geo for which col\n",
    "geo_df.dropna(axis=1)"
   ]
  },
  {
   "cell_type": "markdown",
   "metadata": {},
   "source": [
    "From the above information we know the missing data is in the 'country_cd' column."
   ]
  },
  {
   "cell_type": "code",
   "execution_count": 18,
   "metadata": {},
   "outputs": [
    {
     "name": "stdout",
     "output_type": "stream",
     "text": [
      "     country_cd         timezone           robotid\n",
      "6091        NaN     Europe/Vaduz  QMJXZLREE88GULA1\n",
      "6363        NaN  Africa/Windhoek  Z9JJM7JRIGJYLER2\n"
     ]
    }
   ],
   "source": [
    "# Identify the missing data\n",
    "null_data = geo_df[geo_df.isnull().any(axis=1)]\n",
    "print(null_data)"
   ]
  },
  {
   "cell_type": "code",
   "execution_count": 19,
   "metadata": {},
   "outputs": [
    {
     "data": {
      "image/png": "[encoded data removed]",
      "text/plain": [
       "<Figure size 432x288 with 1 Axes>"
      ]
     },
     "metadata": {
      "needs_background": "light"
     },
     "output_type": "display_data"
    }
   ],
   "source": [
    "# Plot for Mission Data and Geo Data\n",
    "objects = ('Mission Data', 'Geo Data')\n",
    "y_pos = np.arange(len(objects))\n",
    "performance = [(r_m-r_m_nm),(r_g-r_g_nm)]\n",
    "\n",
    "plt.bar(y_pos, performance, align='center', alpha=0.5)\n",
    "plt.xticks(y_pos, objects)\n",
    "plt.ylabel('Missing Data')\n",
    "plt.title('Missing data for Mission Data and Geo Data')\n",
    "\n",
    "plt.show()"
   ]
  },
  {
   "cell_type": "markdown",
   "metadata": {},
   "source": [
    "##### Are there geographic differences in robot usage?"
   ]
  },
  {
   "cell_type": "markdown",
   "metadata": {},
   "source": [
    "To visualize this information, at first, we shall group by robotid based on their 'country_cd'/'timezone' feature. Then we shall check the 'nmssn' and 'runm' feature of each group members. All these information will provide data about the geography difference that effect on the robot performance."
   ]
  },
  {
   "cell_type": "code",
   "execution_count": 47,
   "metadata": {},
   "outputs": [
    {
     "name": "stdout",
     "output_type": "stream",
     "text": [
      "country_cd\n",
      "AD      1\n",
      "AE      5\n",
      "AG      1\n",
      "AR     16\n",
      "AT    293\n",
      "     ... \n",
      "US    238\n",
      "UY      5\n",
      "VE      1\n",
      "VN      4\n",
      "ZA      2\n",
      "Length: 84, dtype: int64\n"
     ]
    }
   ],
   "source": [
    "# Group by 'robotid' using 'country_cd' feature from Geo Data Frame\n",
    "cd_geo_nm_df=geo_nm_df.groupby(['country_cd'])\n",
    "print(cd_geo_nm_df.size())\n",
    "# Access the group Members of country_cd in a Data Frame\n",
    "# for name, group in cd_geo_df['robotid']:\n",
    "#     print(cd_geo_df['robotid'].get_group((name)))"
   ]
  },
  {
   "cell_type": "code",
   "execution_count": 68,
   "metadata": {},
   "outputs": [
    {
     "data": {
      "text/plain": [
       "Text(0, 0.5, 'number of robot used')"
      ]
     },
     "execution_count": 68,
     "metadata": {},
     "output_type": "execute_result"
    },
    {
     "data": {
      "text/plain": [
       "<Figure size 432x288 with 0 Axes>"
      ]
     },
     "metadata": {},
     "output_type": "display_data"
    },
    {
     "data": {
      "image/png": "[encoded data removed]",
      "text/plain": [
       "<Figure size 1440x360 with 1 Axes>"
      ]
     },
     "metadata": {
      "needs_background": "light"
     },
     "output_type": "display_data"
    }
   ],
   "source": [
    "# Plotting the number of robot according to the Geography difference\n",
    "plt.clf()\n",
    "# ax = plt.gca()\n",
    "fig, ax = plt.subplots(figsize=(20, 5))\n",
    "cd_geo_nm_df.size().plot(kind='bar',color='green')\n",
    "ax.set_xlabel(\"Geography Difference according to country\")\n",
    "ax.set_ylabel(\"number of robot used\")"
   ]
  },
  {
   "cell_type": "markdown",
   "metadata": {},
   "source": [
    "The size of each group is different according to the geography difference."
   ]
  },
  {
   "cell_type": "code",
   "execution_count": 39,
   "metadata": {},
   "outputs": [
    {
     "name": "stdout",
     "output_type": "stream",
     "text": [
      "50.73958333333333\n"
     ]
    }
   ],
   "source": [
    "# Group by 'robotid' using 'nmssn' feature from Mission Data Frame\n",
    "robotid_mission_grouped_df = mission_nm_df.groupby(['robotid']).mean()\n",
    "# print(robotid_mission_grouped_df.loc['T29NF13ZIYISNF79','nmssn'])\n",
    "# print(robotid_mission_grouped_df.iloc[2:4,1].mean())"
   ]
  },
  {
   "cell_type": "markdown",
   "metadata": {},
   "source": [
    "Here, we shall findout the mean 'nmssn' of each group. Therefore, we can compare the geo difference."
   ]
  },
  {
   "cell_type": "code",
   "execution_count": 80,
   "metadata": {},
   "outputs": [
    {
     "name": "stderr",
     "output_type": "stream",
     "text": [
      "C:\\Users\\MdKhurramMonirRabby\\Anaconda3\\lib\\site-packages\\pandas\\core\\indexing.py:961: FutureWarning: \n",
      "Passing list-likes to .loc or [] with any missing label will raise\n",
      "KeyError in the future, you can use .reindex() as an alternative.\n",
      "\n",
      "See the documentation here:\n",
      "https://pandas.pydata.org/pandas-docs/stable/user_guide/indexing.html#deprecate-loc-reindex-listlike\n",
      "  return getattr(section, self.name)[new_key]\n"
     ]
    }
   ],
   "source": [
    "# # Access the group Members of country_cd in cd_geo_df\n",
    "group_cd=[]\n",
    "group_cd_nmssn_mean=[]\n",
    "\n",
    "for name, group in cd_geo_nm_df['robotid']:\n",
    "#     print('===============================')\n",
    "#     print(name)\n",
    "    group_cd.append(name)\n",
    "#     print('-------------------------------')\n",
    "#     print(group)\n",
    "#     print('===============================')\n",
    "#     print(robotid_mission_grouped_df.loc[cd_geo_nm_df['robotid'].get_group((name)),'nmssn'].mean())\n",
    "    group_cd_nmssn_mean.append(robotid_mission_grouped_df.loc[cd_geo_nm_df['robotid'].get_group((name)),'nmssn'].mean())\n",
    "#     group_cd_nmssn=group_cd_nmssn.append(x)\n",
    "#     group_cd_nmssn[i]=[robotid_mission_grouped_df.loc[cd_geo_df['robotid'].get_group((name)),'nmssn'].mean()]\n",
    "#     print(cd_geo_df['robotid'].get_group((name)))"
   ]
  },
  {
   "cell_type": "code",
   "execution_count": 91,
   "metadata": {},
   "outputs": [
    {
     "data": {
      "image/png": "[encoded data removed]",
      "text/plain": [
       "<Figure size 2160x432 with 1 Axes>"
      ]
     },
     "metadata": {
      "needs_background": "light"
     },
     "output_type": "display_data"
    }
   ],
   "source": [
    "# print(group_cd)\n",
    "# print(group_cd_nmssn_mean)\n",
    "\n",
    "\n",
    "# Plot for Mission Data and Geo Data\n",
    "objects = group_cd\n",
    "y_pos = np.arange(len(objects))\n",
    "performance = group_cd_nmssn_mean\n",
    "\n",
    "fig= plt.figure(figsize=(30,6))\n",
    "plt.bar(y_pos, performance, align='center', alpha=0.5)\n",
    "plt.xticks(y_pos, objects)\n",
    "plt.ylabel('Average Mission Number')\n",
    "plt.xlabel('Geography Difference according to country')\n",
    "plt.title('Missing data for Mission Data and Geo Data')\n",
    "\n",
    "plt.show()"
   ]
  },
  {
   "cell_type": "code",
   "execution_count": 72,
   "metadata": {},
   "outputs": [
    {
     "name": "stdout",
     "output_type": "stream",
     "text": [
      "                       nmssn       runm     chrgm     pausem\n",
      "robotid                                                     \n",
      "000NG2FMLJBT9ANZ   42.800000  57.000000  9.400000   5.400000\n",
      "000Y9NBMJ77LQ7S7   58.000000  54.571429  0.000000   6.142857\n",
      "006Q50H53GXM7BYO   41.666667  47.750000  5.305556   6.916667\n",
      "00EZQ4MZ6JLQPJK6  101.291667  53.729167  3.020833   5.250000\n",
      "00KI1HU70Y15Z10K   92.035714  55.821429  4.928571   2.535714\n",
      "...                      ...        ...       ...        ...\n",
      "ZZ15EKWDBZBUNLOE  100.071429  55.000000  2.185714   3.685714\n",
      "ZZ6UI6ZTJ09NSKY5   72.615385  46.384615  0.692308   3.692308\n",
      "ZZNOFTIZUGAHMRXX   22.000000  47.000000  9.200000  11.800000\n",
      "ZZNZ8XWEB39GL4XR   85.166667  45.055556  2.722222   3.722222\n",
      "ZZUJVI3GXRLIG0MT   65.586207  45.827586  4.482759   5.344828\n",
      "\n",
      "[9826 rows x 4 columns]\n"
     ]
    }
   ],
   "source": []
  },
  {
   "cell_type": "markdown",
   "metadata": {},
   "source": [
    "###### - Consider all descriptive features of a mission, including when and how frequently it occurred."
   ]
  },
  {
   "cell_type": "markdown",
   "metadata": {},
   "source": [
    "Comparing the datetime feature of each robot to country_cd, we can see the operation period and to the nmssn, we can calculate the frequency of the operation."
   ]
  },
  {
   "cell_type": "code",
   "execution_count": null,
   "metadata": {},
   "outputs": [],
   "source": []
  },
  {
   "cell_type": "markdown",
   "metadata": {},
   "source": [
    "###### - If applicable, comment on how trends in these features might impact design decisions for the hardware, battery, or navigation algorithms of robots sold in different regions."
   ]
  },
  {
   "cell_type": "markdown",
   "metadata": {},
   "source": [
    "We can predict the battery condition by analyzing the charging period/frequency of each robot. Moreover, the pausem and outcome feature provide us the information regarding the hardware, i.e.how much the robot is reliable. In addition to that the nmssn feature provides us the information about the navigation performance of each robot. All these information can be plotted with respect to the country_cd to identify the effect of geography on the robotid."
   ]
  },
  {
   "cell_type": "code",
   "execution_count": null,
   "metadata": {},
   "outputs": [],
   "source": []
  },
  {
   "cell_type": "markdown",
   "metadata": {},
   "source": [
    "### Tasks-2: Calculate the time between consecutive missions for each robot (\"inter -mission interval\" or \"IMI\"). Describe any interesting relationships between IMI and other \n",
    "features of robot behavior."
   ]
  },
  {
   "cell_type": "markdown",
   "metadata": {},
   "source": [
    "The IMI is calculated based on the datatime from the 'mission_df'. Here it is seen that after completing one mission the robot requires a fixed amount of time that is more than the charging period. Also, if the robot does not get enough time that is supposed to be considered as the maintenance period, the mission is either canceled or delayed for most of the cases.  "
   ]
  },
  {
   "cell_type": "markdown",
   "metadata": {},
   "source": [
    "### Tasks-3 (**BONUS**): We are aware that data loss exists among the mission records, but are unsure of the cause. Quantify the extent of the loss, differentiating between discrete catastrophic events and random mission loss for individual robots. Investigate whether this loss is uniform or whether it may be impacting other analyses."
   ]
  },
  {
   "cell_type": "code",
   "execution_count": 24,
   "metadata": {},
   "outputs": [
    {
     "name": "stdout",
     "output_type": "stream",
     "text": [
      "There is no missing data for Mission Data Frame\n"
     ]
    }
   ],
   "source": [
    "# Missing Data for Mission Data Frame\n",
    "r_m, c_m=mission_df.shape\n",
    "r_m_nm, c_m_nm=mission_nm_df.shape\n",
    "\n",
    "if (r_m-r_m_nm)==0:\n",
    "    print('There is no missing data for Mission Data Frame')\n",
    "else:\n",
    "    print('Missing data for Mission:',(r_m-r_m_nm))   \n",
    "    mission_null_df = mission_df[mission_df.isnull().any(axis=1)]\n",
    "    print(mission_null_df)\n"
   ]
  },
  {
   "cell_type": "code",
   "execution_count": 25,
   "metadata": {},
   "outputs": [
    {
     "name": "stdout",
     "output_type": "stream",
     "text": [
      "Missing data for Mission: 2\n",
      "     country_cd         timezone           robotid\n",
      "6091        NaN     Europe/Vaduz  QMJXZLREE88GULA1\n",
      "6363        NaN  Africa/Windhoek  Z9JJM7JRIGJYLER2\n"
     ]
    }
   ],
   "source": [
    "# Missing Data for Geo Data Frame\n",
    "r_g, c_g=geo_df.shape\n",
    "r_g_nm, c_g_nm=geo_nm_df.shape\n",
    "\n",
    "if (r_g-r_g_nm)==0:\n",
    "    print('There is no missing data for Mission Data Frame')\n",
    "else:\n",
    "    print('Missing data for Mission:',(r_g-r_g_nm))   \n",
    "    geo_null_df = geo_df[geo_df.isnull().any(axis=1)]\n",
    "    print(geo_null_df)"
   ]
  },
  {
   "cell_type": "markdown",
   "metadata": {},
   "source": [
    "Here, we shall check the feature of the missing robotid with other robotid and then classify them according to the closely matched robot which has valid country_cd information and put them in that group. As this is the classification problem because we have labeled information from other robot and using that model we can predict the missiong information following "
   ]
  },
  {
   "cell_type": "code",
   "execution_count": null,
   "metadata": {},
   "outputs": [],
   "source": []
  }
 ],
 "metadata": {
  "kernelspec": {
   "display_name": "Python 3",
   "language": "python",
   "name": "python3"
  },
  "language_info": {
   "codemirror_mode": {
    "name": "ipython",
    "version": 3
   },
   "file_extension": ".py",
   "mimetype": "text/x-python",
   "name": "python",
   "nbconvert_exporter": "python",
   "pygments_lexer": "ipython3",
   "version": "3.7.4"
  }
 },
 "nbformat": 4,
 "nbformat_minor": 2
}
